{
 "cells": [
  {
   "cell_type": "code",
   "execution_count": null,
   "id": "99d7c7f8",
   "metadata": {},
   "outputs": [],
   "source": [
    "import os"
   ]
  },
  {
   "cell_type": "code",
   "execution_count": null,
   "id": "2f7269d0",
   "metadata": {},
   "outputs": [],
   "source": [
    "os.chdir('../')\n",
    "%pwd"
   ]
  },
  {
   "cell_type": "code",
   "execution_count": null,
   "id": "79feedd2",
   "metadata": {},
   "outputs": [],
   "source": [
    "from dataclasses import dataclass\n",
    "from pathlib import Path\n",
    "\n",
    "@dataclass(frozen=True)\n",
    "class ModelTrainerConfig:\n",
    "    root_dir: Path\n",
    "    data_path: Path\n",
    "    model_ckpt: Path\n",
    "    num_train_epochs: int\n",
    "    warmup_steps: int\n",
    "    per_device_train_batch_size: int\n",
    "    per_device_eval_batch_size: int\n",
    "    weight_decay: float\n",
    "    logging_steps: int\n",
    "    evaluation_strategy: str\n",
    "    eval_steps: int\n",
    "    save_steps: float\n",
    "    gradient_accumulation_steps: int\n"
   ]
  },
  {
   "cell_type": "code",
   "execution_count": null,
   "id": "ad725baf",
   "metadata": {},
   "outputs": [],
   "source": [
    "from TextSummarizer.constants import *\n",
    "from TextSummarizer.utils.common import read_yaml, create_directories"
   ]
  },
  {
   "cell_type": "code",
   "execution_count": null,
   "id": "071a6648",
   "metadata": {},
   "outputs": [],
   "source": [
    "class ConfigurationManager:\n",
    "    def __init__(self,\n",
    "                 config_filepath=CONFIG_FILE_PATH,\n",
    "                 params_filepath=PARAMS_FILE_PATH):\n",
    "        \n",
    "        self.config = read_yaml(config_filepath)\n",
    "        self.params = read_yaml(params_filepath)\n",
    "\n",
    "        create_directories([self.config.artifacts_root])\n",
    "\n",
    "    def get_model_trainer_config(self) -> ModelTrainerConfig:\n",
    "        config = self.config.model_trainer\n",
    "        params = self.params.TrainingArguments\n",
    "        create_directories([config.root_dir])\n",
    "\n",
    "        data_model_trainer_config = ModelTrainerConfig(\n",
    "            root_dir=config.root_dir,\n",
    "            data_path=config.data_path,\n",
    "            model_ckpt=config.model_ckpt,\n",
    "            num_train_epochs=params.num_train_epochs,\n",
    "            warmup_steps=params.warmup_steps,\n",
    "            per_device_train_batch_size=params.per_device_train_batch_size,\n",
    "            per_device_eval_batch_size=params.per_device_eval_batch_size,\n",
    "            weight_decay=params.weight_decay,\n",
    "            logging_steps=params.logging_steps,\n",
    "            evaluation_strategy=params.evaluation_strategy,\n",
    "            eval_steps=params.eval_steps,\n",
    "            save_steps=params.save_steps,\n",
    "            gradient_accumulation_steps=params.gradient_accumulation_steps\n",
    "            )\n",
    "        \n",
    "        return data_model_trainer_config\n"
   ]
  },
  {
   "cell_type": "code",
   "execution_count": null,
   "id": "d2073645",
   "metadata": {},
   "outputs": [],
   "source": [
    "from transformers import AutoTokenizer\n",
    "from transformers import DataCollatorForSeq2Seq\n",
    "from transformers import AutoModelForSeq2SeqLM\n",
    "from transformers import Trainer, TrainingArguments\n",
    "import torch\n",
    "from datasets import load_from_disk, load_dataset\n"
   ]
  },
  {
   "cell_type": "code",
   "execution_count": null,
   "id": "d8a7d77c",
   "metadata": {},
   "outputs": [],
   "source": [
    "class ModelTrainer:\n",
    "    def __init__(self, config: ModelTrainerConfig):\n",
    "        self.config = config\n",
    "    \n",
    "    def train(self):\n",
    "        device = 'cuda' if torch.cuda.is_available() else 'cpu'\n",
    "        tokenizer = AutoTokenizer.from_pretrained(self.config.model_ckpt)\n",
    "        model_pegasus = AutoModelForSeq2SeqLM.from_pretrained(self.config.model_ckpt).to(device)\n",
    "        seq2seq_data_collator = DataCollatorForSeq2Seq(tokenizer=tokenizer, model=model_pegasus)\n",
    "\n",
    "        dataset_samsum_pt = load_from_disk(self.config.data_path)\n",
    "\n",
    "        trainer_args = TrainingArguments(output_dir=self.config.root_dir,\n",
    "                                         num_train_epochs=self.config.num_train_epochs,\n",
    "                                         warmup_steps=self.config.warmup_steps,\n",
    "                                         per_device_train_batch_size=self.config.per_device_train_batch_size,\n",
    "                                         per_device_eval_batch_size=self.config.per_device_eval_batch_size,\n",
    "                                         weight_decay=self.config.weight_decay,\n",
    "                                         logging_steps=self.config.logging_steps,\n",
    "                                         evaluation_strategy=self.config.evaluation_strategy,\n",
    "                                         eval_steps=self.config.eval_steps,\n",
    "                                         save_steps=self.config.save_steps,\n",
    "                                         gradient_accumulation_steps=self.config.gradient_accumulation_steps\n",
    "                                        )\n",
    "        \n",
    "        trainer = Trainer(model=model_pegasus,\n",
    "                          args=trainer_args,\n",
    "                          tokenizer=tokenizer,\n",
    "                          data_collator=seq2seq_data_collator,\n",
    "                          train_dataset=dataset_samsum_pt[\"test\"],      # change to train\n",
    "                          eval_dataset=dataset_samsum_pt['validation']\n",
    "                          )\n",
    "        \n",
    "        trainer.train()\n",
    "\n",
    "        model_pegasus.save_pretrained(os.path.join(self.config.root_dir, 'pegasus-samsum-model'))\n",
    "\n",
    "        tokenizer.save_pretrained(os.path.join(self.config.root_dir, 'tokenizer'))"
   ]
  },
  {
   "cell_type": "code",
   "execution_count": null,
   "id": "43136426",
   "metadata": {},
   "outputs": [],
   "source": [
    "try:\n",
    "    config = ConfigurationManager()\n",
    "    model_trainer_config = config.get_model_trainer_config()\n",
    "    model_trainer = ModelTrainer(config=model_trainer_config)\n",
    "    model_trainer.train()\n",
    "except Exception as e:\n",
    "    raise e"
   ]
  },
  {
   "cell_type": "code",
   "execution_count": null,
   "id": "730ffc19",
   "metadata": {},
   "outputs": [],
   "source": []
  }
 ],
 "metadata": {
  "kernelspec": {
   "display_name": "nlp_env",
   "language": "python",
   "name": "python3"
  },
  "language_info": {
   "codemirror_mode": {
    "name": "ipython",
    "version": 3
   },
   "file_extension": ".py",
   "mimetype": "text/x-python",
   "name": "python",
   "nbconvert_exporter": "python",
   "pygments_lexer": "ipython3",
   "version": "3.10.17"
  }
 },
 "nbformat": 4,
 "nbformat_minor": 5
}
